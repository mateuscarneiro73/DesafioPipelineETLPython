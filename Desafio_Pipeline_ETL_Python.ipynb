{
  "nbformat": 4,
  "nbformat_minor": 0,
  "metadata": {
    "colab": {
      "provenance": []
    },
    "kernelspec": {
      "name": "python3",
      "display_name": "Python 3"
    },
    "language_info": {
      "name": "python"
    }
  },
  "cells": [
    {
      "cell_type": "code",
      "execution_count": 11,
      "metadata": {
        "id": "OE5dapc40xkI"
      },
      "outputs": [],
      "source": [
        "import pandas as pd\n",
        "import requests as rqt\n",
        "import json as json\n",
        "import random as rd\n",
        "\n"
      ]
    },
    {
      "cell_type": "code",
      "source": [
        "api_url = 'https://sdw-2023-prd.up.railway.app'"
      ],
      "metadata": {
        "id": "4lxmv9pq04CD"
      },
      "execution_count": 2,
      "outputs": []
    },
    {
      "cell_type": "code",
      "source": [
        "def buscar_usuario(id):\n",
        "  response = rqt.get(f'{api_url}/users/{id}')\n",
        "  return response.json() if response.status_code == 200 else None\n",
        "\n",
        "def gerar_mensagem(usuario):\n",
        "  num = rd.randint(0,len(frases)-1)\n",
        "  frase = frases[num].strip('\\\"')\n",
        "  return (f\"{usuario['name']}, {frase}\")\n",
        "\n",
        "def Atualiza_usuario(usuario):\n",
        "  response = rqt.put(f\"{api_url}/users/{usuario['id']}\", json=user)\n",
        "  return True if response.status_code == 200 else False\n"
      ],
      "metadata": {
        "id": "NiMURDXD09J7"
      },
      "execution_count": 33,
      "outputs": []
    },
    {
      "cell_type": "code",
      "source": [
        "ids_usarios = (pd.read_csv('SDW2023.csv'))['UserID'].tolist()\n",
        "frases = (pd.read_csv('Frases.csv'))[\"Descricao\"].tolist()\n",
        "\n",
        "usuarios = [user for id in ids_usarios if (user := buscar_usuario(id)) is not None]\n",
        "\n",
        "for user in usuarios:\n",
        "  new = gerar_mensagem(user)\n",
        "  user['news'].append({\n",
        "      \"icon\": \"https://digitalinnovationone.github.io/santander-dev-week-2023-api/icons/\",\n",
        "      \"description\": new\n",
        "  })\n",
        "\n",
        "for user in usuarios:\n",
        "  success = Atualiza_usuario(user)\n",
        "  print(f\"User {user['name']} updated? {success}!\")"
      ],
      "metadata": {
        "colab": {
          "base_uri": "https://localhost:8080/"
        },
        "id": "9S9J0VRX18nl",
        "outputId": "4d435926-0dca-4442-c362-b4cd06a472ad"
      },
      "execution_count": 34,
      "outputs": [
        {
          "output_type": "stream",
          "name": "stdout",
          "text": [
            "User Nicodemos Oliveira updated? True!\n",
            "User Gabriela updated? True!\n",
            "User Pyterson updated? True!\n",
            "User Hugo updated? True!\n",
            "User Joelson updated? True!\n",
            "User Devweekerson updated? False!\n"
          ]
        }
      ]
    }
  ]
}